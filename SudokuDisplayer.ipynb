{
 "cells": [
  {
   "cell_type": "code",
   "execution_count": 4,
   "metadata": {},
   "outputs": [],
   "source": []
  },
  {
   "cell_type": "code",
   "execution_count": null,
   "metadata": {},
   "outputs": [],
   "source": [
    "\n",
    "\n"
   ]
  },
  {
   "cell_type": "code",
   "execution_count": 4,
   "metadata": {},
   "outputs": [
    {
     "name": "stdout",
     "output_type": "stream",
     "text": [
      "- - - - - - - - - - - - - - - - - - -\n",
      "[0, 0, 0, '|', 0, 6, 4, '|', 0, 0, 0]\n",
      "[7, 0, 0, '|', 0, 0, 0, '|', 3, 9, 0]\n",
      "[8, 0, 0, '|', 0, 0, 0, '|', 0, 0, 0]\n",
      "- - - - - - - - - - - - - - - - - - -\n",
      "[0, 0, 0, '|', 5, 0, 2, '|', 0, 6, 0]\n",
      "[0, 8, 0, '|', 4, 0, 0, '|', 0, 0, 0]\n",
      "[3, 5, 0, '|', 6, 0, 0, '|', 0, 7, 0]\n",
      "- - - - - - - - - - - - - - - - - - -\n",
      "[0, 0, 2, '|', 0, 0, 0, '|', 1, 0, 3]\n",
      "[0, 0, 1, '|', 0, 5, 9, '|', 0, 0, 0]\n",
      "[0, 0, 0, '|', 0, 0, 0, '|', 7, 0, 0]\n",
      "- - - - - - - - - - - - - - - - - - -\n"
     ]
    }
   ],
   "source": [
    "sudoku = [\n",
    "    [0, 0, 0, 0, 6, 4, 0, 0, 0],\n",
    "    [7, 0, 0, 0, 0, 0, 3, 9, 0],\n",
    "    [8, 0, 0, 0, 0, 0, 0, 0, 0],\n",
    "    [0, 0, 0, 5, 0, 2, 0, 6, 0],\n",
    "    [0, 8, 0, 4, 0, 0, 0, 0, 0],\n",
    "    [3, 5, 0, 6, 0, 0, 0, 7, 0],\n",
    "    [0, 0, 2, 0, 0, 0, 1, 0, 3],\n",
    "    [0, 0, 1, 0, 5, 9, 0, 0, 0],\n",
    "    [0, 0, 0, 0, 0, 0, 7, 0, 0]\n",
    "]\n",
    "m = 0\n",
    "i = sudoku\n",
    "n = 0\n",
    "\n",
    "x = 0\n",
    "k = 0\n",
    "\n",
    "while x < 9:\n",
    "    i[k].insert(3,\"|\")\n",
    "    i[k].insert(7,\"|\")         \n",
    "    x += 1\n",
    "    k += 1\n",
    "    n += 1\n",
    "if n%3==0:\n",
    "    j = 0\n",
    "    print(\"- - - - - - - - - - - - - - - - - - -\")\n",
    "    while m < 3:\n",
    "        \n",
    "        print(i[j])\n",
    "        j += 1\n",
    "        print(i[j])\n",
    "        j += 1\n",
    "        print(i[j])\n",
    "        j += 1\n",
    "        print(\"- - - - - - - - - - - - - - - - - - -\")\n",
    "        m += 1\n",
    "        \n",
    "\n",
    "\n"
   ]
  },
  {
   "cell_type": "code",
   "execution_count": null,
   "metadata": {},
   "outputs": [],
   "source": []
  },
  {
   "cell_type": "code",
   "execution_count": null,
   "metadata": {},
   "outputs": [],
   "source": []
  }
 ],
 "metadata": {
  "kernelspec": {
   "display_name": "Python 3",
   "language": "python",
   "name": "python3"
  },
  "language_info": {
   "codemirror_mode": {
    "name": "ipython",
    "version": 3
   },
   "file_extension": ".py",
   "mimetype": "text/x-python",
   "name": "python",
   "nbconvert_exporter": "python",
   "pygments_lexer": "ipython3",
   "version": "3.7.6"
  }
 },
 "nbformat": 4,
 "nbformat_minor": 4
}
